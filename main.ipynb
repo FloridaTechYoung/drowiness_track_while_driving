import kagglehub

# Download latest version
path = kagglehub.dataset_download("akashshingha850/mrl-eye-dataset")

print("Path to dataset files:", path)